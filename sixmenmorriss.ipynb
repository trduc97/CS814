{
  "nbformat": 4,
  "nbformat_minor": 0,
  "metadata": {
    "colab": {
      "provenance": [],
      "authorship_tag": "ABX9TyOiV6fWJa3QkMZLYcnKZU2s",
      "include_colab_link": true
    },
    "kernelspec": {
      "name": "python3",
      "display_name": "Python 3"
    },
    "language_info": {
      "name": "python"
    }
  },
  "cells": [
    {
      "cell_type": "markdown",
      "metadata": {
        "id": "view-in-github",
        "colab_type": "text"
      },
      "source": [
        "<a href=\"https://colab.research.google.com/github/trduc97/CS814/blob/main/sixmenmorriss.ipynb\" target=\"_parent\"><img src=\"https://colab.research.google.com/assets/colab-badge.svg\" alt=\"Open In Colab\"/></a>"
      ]
    },
    {
      "cell_type": "code",
      "source": [
        "from IPython.display import clear_output\n",
        "import math\n",
        "# state representation 2-D list of 3*3 values of X, O, or space\n",
        "gamestate = [[' ' for _ in range(5)] for _ in range(5)]\n",
        "# Choose who should start playing, X for the agent, O for the Human\n",
        "PlayerTurn = 'X'\n",
        "\n",
        "# maxDepth is used to stop the search whenever needed\n",
        "maxDepth = 2"
      ],
      "metadata": {
        "id": "oGY7kCbh3DQX"
      },
      "execution_count": 6,
      "outputs": []
    },
    {
      "cell_type": "markdown",
      "source": [
        "# Formalism to play the game"
      ],
      "metadata": {
        "id": "sRiAt7uBEd5v"
      }
    },
    {
      "cell_type": "code",
      "source": [
        "#Check if piece in correct place\n",
        "def checkval(cur):\n",
        "  invalid = [[0,1],[0,3],[1,0],[1,4],[2,2], [3,0],[3,4],[4,1],[4,3]]\n",
        "  for value in invalid:\n",
        "    i,j = value\n",
        "    return cur[i][j] == ' '\n",
        "\n",
        "#Check to see if a player got three in a rows\n",
        "def check_trio(pieces):\n",
        "  #create dictionary to save the count values\n",
        "  rows = {}\n",
        "  cols = {}\n",
        "\n",
        " #Counting values in rows and cols\n",
        "  for key, coord in pieces.items():\n",
        "    if coord != ['','']:\n",
        "      row, col = coord\n",
        "  #Count rows:\n",
        "      if row not in rows:\n",
        "        rows[row] = [key]\n",
        "      else:\n",
        "        rows[row].append(key)\n",
        "        #Count col:\n",
        "      if col not in cols:\n",
        "        cols[col] = [key]\n",
        "      else:\n",
        "        cols[col].append(key)\n",
        "  trio_list = []\n",
        "  #Combine trio on the same row\n",
        "  for row_key in rows.values():\n",
        "    if len(row_key) == 3:\n",
        "      trio_list.append(''.join(row_key))\n",
        "  #Combine trio on the same column\n",
        "  for col_key in cols.values():\n",
        "    if len(col_key) == 3:\n",
        "      trio_list.append(''.join(col_key))\n",
        "  return trio_list\n",
        "\n",
        "# this function will test if any player won the game or if it is a draw\n",
        "#Test win by checking opponent pieces count\n",
        "def testWin(current):\n",
        "  cur = [[cell[0] if len(cell) == 2 else ' ' for cell in row] for row in current]\n",
        "  flatten = [cell for row in cur for cell in row]\n",
        "  X_total = flatten.count('X')\n",
        "  O_total = flatten.count('O')\n",
        "  if X_total < 3:\n",
        "    return 'O'\n",
        "  elif O_total <3:\n",
        "    return 'X'\n",
        "  else:\n",
        "    'NoWin'\n",
        "'''  Check win by checking opponent pieces\n",
        "def testWin(opp_dict):\n",
        "  if opp_dict == {}:\n",
        "    return False\n",
        "  else:\n",
        "    count_lost = sum(value == ['',''] for value in opp_dict.values())\n",
        "    if count_lost > 3:\n",
        "      print('Player {} won'.format(PlayerTurn))\n",
        "      return True\n",
        "    else:\n",
        "      return False\n",
        "'''\n",
        "#Test win by checking on the board\n",
        "'''\n",
        "def testWin(cur):\n",
        "  all_val = [element for sublist in cur for element in sublist]\n",
        "  values_count = {}\n",
        "  for val in all_val:\n",
        "    if val in values_count:\n",
        "      values_count[val] += 1\n",
        "    else: values_count[val] = 1\n",
        "  if any(count==2 for count in values_count.values()):\n",
        "    return int([key for key,value in values_count.items() if value >2])\n",
        "  else: return 'NoWin'\n",
        "\n",
        "#this function will test who won\n",
        "def checkWhoWon(cur):\n",
        "  # check if X won\n",
        "  if testWin(cur) == 'X':\n",
        "    print(\"Player X won\")\n",
        "    return True\n",
        "  # check if O won\n",
        "  if testWin(cur) == 'O':\n",
        "    print(\"Player O won\")\n",
        "    return True\n",
        "  # Keep playing\n",
        "  return False\n",
        "'''\n",
        "#this function will change the turn of the player\n",
        "def changePlayerTurn():\n",
        "  global PlayerTurn\n",
        "  if PlayerTurn == 'X':\n",
        "    PlayerTurn = 'O'\n",
        "  else:\n",
        "    PlayerTurn = 'X'\n",
        "\n",
        "#this function will print the board\n",
        "def make_board(X_pieces, O_pieces):\n",
        "    #Create a 5x5 board\n",
        "    board = [['  ' for _ in range(5)] for _ in range(5)]\n",
        "    #Place X pieces\n",
        "    for piece, coord in X_pieces.items():\n",
        "        row, col = coord\n",
        "        if coord != ['','']:\n",
        "          board[row][col] = piece\n",
        "    #Place O pieces\n",
        "    for piece, coord in O_pieces.items():\n",
        "        row, col = coord\n",
        "        if coord != ['','']:\n",
        "          board[row][col] = piece\n",
        "    return board\n",
        "def printGameBoard(board):\n",
        "    clear_output()\n",
        "    # Printing the board\n",
        "    print(\"Player 1: X\")\n",
        "    print(\"Player 2: O\\n\")\n",
        "    for i in range(len(board)):\n",
        "        for j in range(len(board[i])):\n",
        "            print(\"\", board[i][j], \"\", end=\"\")\n",
        "            if (j < 4):\n",
        "                print(\"|\", end=\"\")\n",
        "            else:\n",
        "                print(\"\\n\", end=\"\")\n",
        "        if (i < 4):\n",
        "            print(\"------------------------\")"
      ],
      "metadata": {
        "id": "GcSVItbxXpUm"
      },
      "execution_count": 19,
      "outputs": []
    },
    {
      "cell_type": "code",
      "source": [
        "PlayerTurn"
      ],
      "metadata": {
        "colab": {
          "base_uri": "https://localhost:8080/",
          "height": 35
        },
        "id": "_hO_coppPdIG",
        "outputId": "159618f2-d554-4afd-b851-65824793a2eb"
      },
      "execution_count": 17,
      "outputs": [
        {
          "output_type": "execute_result",
          "data": {
            "text/plain": [
              "'X'"
            ],
            "application/vnd.google.colaboratory.intrinsic+json": {
              "type": "string"
            }
          },
          "metadata": {},
          "execution_count": 17
        }
      ]
    },
    {
      "cell_type": "markdown",
      "source": [
        "# PLAYING HUMAN VS HUMAN"
      ],
      "metadata": {
        "id": "NvVc621pA_CQ"
      }
    },
    {
      "cell_type": "code",
      "source": [
        "# Main function used to play the game\n",
        "# initialise game state\n",
        "current = [['  ' for _ in range(5)] for _ in range(5)]\n",
        "PlayerTurn = 'X'\n",
        "invalid = [[0,1],[0,3],[1,0],[1,4],[2,2],[3,0],[3,4],[4,1],[4,3]]\n",
        "X_pre_trio = []\n",
        "O_pre_trio = []\n",
        "#X_pieces = {}\n",
        "#O_pieces = {}\n",
        "O_pieces = {'O0':[0,0],'O1':[2,0],'O2': [1, 1],\n",
        "            'O3': [2,1],'O4': [0, 4]}\n",
        "X_pieces = {'X0':[4,4],'X1':[3, 3],'X2':[4, 0],\n",
        "            'X3': [0, 2], 'X4': [2, 4]}\n",
        "\n",
        "phase = 0 #Placing phase\n",
        "# Print gameBoard()\n",
        "current = make_board(X_pieces, O_pieces)\n",
        "printGameBoard(current)\n",
        "\n",
        "while(True):\n",
        "  if (PlayerTurn == 'X'):\n",
        "    print('Player {} turn'.format(PlayerTurn))\n",
        "    # Player X move - Human\n",
        "    #Moving phase\n",
        "    if len(X_pieces) == 6:\n",
        "      print(\"Moving phase\")\n",
        "      move_piece = input('Please choose the piece you want to move')\n",
        "      while move_piece not in X_pieces and type(move_piece) != str:\n",
        "        move_piece = str(input('Please choose a valid piece to move'))\n",
        "      piece = move_piece\n",
        "    else:\n",
        "      #Placing phase\n",
        "      print(\"Placing phase\")\n",
        "      new_piece = PlayerTurn+str(len(X_pieces))\n",
        "      piece = new_piece\n",
        "    rMove = int(input(\"Please enter the row you want to place: \"))\n",
        "    cMove = int(input(\"Please enter the column you want to place: \"))\n",
        "    while (rMove < 0 or rMove > 4 or cMove < 0 or cMove > 4\n",
        "          or current[rMove][cMove] != '  '\n",
        "          or [rMove,cMove] in invalid):\n",
        "      rMove = int(input(\"Please enter a valid row: \"))\n",
        "      cMove = int(input(\"Please enter a valid column: \"))\n",
        "    #now we have a valid X move\n",
        "    X_pieces[piece] = [rMove,cMove]\n",
        "    #Check if the new move create a trio:\n",
        "    trio_list = check_trio(X_pieces)\n",
        "    if len(trio_list)>0:\n",
        "      if trio_list != X_pre_trio:\n",
        "    #A valid new trio\n",
        "        remove_piece = str(input('Please choose the piece to remove'))\n",
        "        if remove_piece not in O_pieces or O_pieces[remove_piece] == ['','']:\n",
        "          remove_piece = str(input('Please choose a valid piece to remove'))\n",
        "        O_pieces[remove_piece] = ['','']\n",
        "    X_pre_trio = trio_list #Updating the trio\n",
        "    # Print gameBoard()\n",
        "    current = make_board(X_pieces, O_pieces)\n",
        "    printGameBoard(current)\n",
        "    if testWin(current) == PlayerTurn:\n",
        "      break\n",
        "    changePlayerTurn()\n",
        "  else:\n",
        "    print('Player {} turn'.format(PlayerTurn))\n",
        "    # Player O move - Human\n",
        "    #Moving phase\n",
        "    if len(O_pieces) == 6:\n",
        "      print(\"Moving phase\")\n",
        "      move_piece = input('Please choose the piece you want to move')\n",
        "      while move_piece not in O_pieces and type(move_piece) != str:\n",
        "        move_piece = str(input('Please choose the piece you want to move'))\n",
        "      piece = move_piece\n",
        "    else:\n",
        "      #Placing phase\n",
        "      print(\"Placing phase\")\n",
        "      new_piece = PlayerTurn+str(len(O_pieces))\n",
        "      piece = new_piece\n",
        "    rMove = int(input(\"Please enter the row you want to place: \"))\n",
        "    cMove = int(input(\"Please enter the column you want to place: \"))\n",
        "    while (rMove < 0 or rMove > 4 or cMove < 0 or cMove > 4\n",
        "             or current[rMove][cMove] != '  '\n",
        "             or [rMove,cMove] in invalid):\n",
        "      rMove = int(input(\"Please enter a valid row: \"))\n",
        "      cMove = int(input(\"Please enter a valid column: \"))\n",
        "    #now we have a valid O move\n",
        "    O_pieces[piece] = [rMove,cMove]\n",
        "    #Check if the new move create a trio:\n",
        "    trio_list = check_trio(O_pieces)\n",
        "    if len(trio_list)>0:\n",
        "      if trio_list != O_pre_trio:\n",
        "      #A valie new trio\n",
        "        remove_piece = str(input('Please choose the piece to remove'))\n",
        "        if remove_piece not in X_pieces or X_pieces[remove_piece] == ['','']:\n",
        "          remove_piece = str(input('Please choose the piece to remove'))\n",
        "        X_pieces[remove_piece] = ['','']\n",
        "    O_pre_trio = trio_list\n",
        "    # Print gameBoard()\n",
        "    current = make_board(X_pieces, O_pieces)\n",
        "    printGameBoard(current)\n",
        "    if testWin(current) == PlayerTurn:\n",
        "      break\n",
        "    changePlayerTurn()"
      ],
      "metadata": {
        "colab": {
          "base_uri": "https://localhost:8080/"
        },
        "id": "l9zdAQjV5XTI",
        "outputId": "a830c725-17f6-4a9d-b617-f0d98a45f12f"
      },
      "execution_count": 21,
      "outputs": [
        {
          "output_type": "stream",
          "name": "stdout",
          "text": [
            "Player 1: X\n",
            "Player 2: O\n",
            "\n",
            " O3 |    | O1 |    | O4 \n",
            "------------------------\n",
            "    | O2 |    | X3 |    \n",
            "------------------------\n",
            "    |    |    |    |    \n",
            "------------------------\n",
            "    |    |    | X5 |    \n",
            "------------------------\n",
            "    |    |    |    |    \n"
          ]
        }
      ]
    },
    {
      "cell_type": "markdown",
      "source": [
        "# BOT VS HUMAN"
      ],
      "metadata": {
        "id": "YnbAFUG9sQBF"
      }
    },
    {
      "cell_type": "code",
      "source": [
        "# Main function used to play the game\n",
        "# initialise game state\n",
        "current = [['  ' for _ in range(5)] for _ in range(5)]\n",
        "PlayerTurn = 'X'\n",
        "invalid = [[0,1],[0,3],[1,0],[1,4],[2,2],[3,0],[3,4],[4,1],[4,3]]\n",
        "X_pre_trio = []\n",
        "O_pre_trio = []\n",
        "#X_pieces = {}\n",
        "#O_pieces = {}\n",
        "O_pieces = {'O0':[0,0],'O1':[2,0],'O2': [1, 1],\n",
        "            'O3': [2,1],'O4': [0, 4]}\n",
        "X_pieces = {'X0':[4,4],'X1':[3, 3],'X2':[4, 0],\n",
        "            'X3': [0, 2], 'X4': [2, 4]}\n",
        "\n",
        "phase = 0 #Placing phase\n",
        "# Print gameBoard()\n",
        "current = make_board(X_pieces, O_pieces)\n",
        "printGameBoard(current)\n",
        "\n",
        "while(True):\n",
        "  if (PlayerTurn == 'X'):\n",
        "    print('Player {} turn'.format(PlayerTurn))\n",
        "    # Player X move - Human\n",
        "    #Moving phase\n",
        "    if len(X_pieces) == 6:\n",
        "      print(\"Moving phase\")\n",
        "      move_piece = input('Please choose the piece you want to move')\n",
        "      while move_piece not in X_pieces and type(move_piece) != str:\n",
        "        move_piece = str(input('Please choose a valid piece to move'))\n",
        "      piece = move_piece\n",
        "    else:\n",
        "      #Placing phase\n",
        "      print(\"Placing phase\")\n",
        "      new_piece = PlayerTurn+str(len(X_pieces))\n",
        "      piece = new_piece\n",
        "    rMove = int(input(\"Please enter the row you want to place: \"))\n",
        "    cMove = int(input(\"Please enter the column you want to place: \"))\n",
        "    while (rMove < 0 or rMove > 4 or cMove < 0 or cMove > 4\n",
        "          or current[rMove][cMove] != '  '\n",
        "          or [rMove,cMove] in invalid):\n",
        "      rMove = int(input(\"Please enter a valid row: \"))\n",
        "      cMove = int(input(\"Please enter a valid column: \"))\n",
        "    #now we have a valid X move\n",
        "    X_pieces[piece] = [rMove,cMove]\n",
        "    #Check if the new move create a trio:\n",
        "    trio_list = check_trio(X_pieces)\n",
        "    if len(trio_list)>0:\n",
        "      if trio_list != X_pre_trio:    #A valid new trio\n",
        "    #Choosing an opponent piece to remove\n",
        "        remove_piece = str(input('Please choose the piece to remove'))\n",
        "        while remove_piece not in O_pieces or O_pieces[remove_piece] == ['','']:\n",
        "          remove_piece = str(input('Please choose a valid piece to remove'))\n",
        "        O_pieces[remove_piece] = ['','']\n",
        "    X_pre_trio = trio_list #Updating the trio\n",
        "    # Print gameBoard()\n",
        "    current = make_board(X_pieces, O_pieces)\n",
        "    printGameBoard(current)\n",
        "    if testWin(current) == PlayerTurn:\n",
        "      break\n",
        "    changePlayerTurn()\n",
        "  else:\n",
        "    print('Player {} turn'.format(PlayerTurn))\n",
        "    # Player O move - Bot\n",
        "    #Moving phase\n",
        "    if len(O_pieces) == 6:\n",
        "      print(\"Moving phase\")\n",
        "      move_piece = MinimaxDecision(current)         #DUMMY REPRESENTATION\n",
        "      piece = move_piece\n",
        "    else:\n",
        "      #Placing phase\n",
        "      print(\"Placing phase\")\n",
        "      new_piece = PlayerTurn+str(len(O_pieces))\n",
        "      piece = new_piece\n",
        "    rMove, cMove = MinimaxDecision(current)        #DUMMY REPRESENTATION\n",
        "    #now we have a valid O move\n",
        "    O_pieces[piece] = [rMove,cMove]\n",
        "    #Check if the new move create a trio:\n",
        "    trio_list = check_trio(O_pieces)\n",
        "    if len(trio_list)>0:\n",
        "      if trio_list != O_pre_trio:\n",
        "      #A valid new trio\n",
        "        remove_piece = MinimaxDecision(current)   #DUMMY REPRESENTATION\n",
        "        X_pieces[remove_piece] = ['','']\n",
        "    O_pre_trio = trio_list\n",
        "    # Print gameBoard()\n",
        "    current = make_board(X_pieces, O_pieces)\n",
        "    printGameBoard(current)\n",
        "    if testWin(current) == PlayerTurn:\n",
        "      break\n",
        "    changePlayerTurn()"
      ],
      "metadata": {
        "id": "RixjeuT2sO3J"
      },
      "execution_count": null,
      "outputs": []
    },
    {
      "cell_type": "markdown",
      "source": [
        "# Minimax Algorithm"
      ],
      "metadata": {
        "id": "Vd60miQUsBai"
      }
    },
    {
      "cell_type": "code",
      "source": [
        "# The evaluation function: 3-moves winning for X - 3-moves winning for O\n",
        "def evalState(board):\n",
        "  sx = 0\n",
        "  so = 0\n",
        "#Removing the numbering on the pieces\n",
        "  cur = [[cell[0] if len(cell) == 2 else ' ' for cell in row] for row in board]\n",
        "  # Counting corner pieces\n",
        "  corners = [[0, 0], [0, 4], [4, 0], [4, 4], [1, 1], [1, 3], [3, 1], [3, 3]]\n",
        "  X_corner = sum(1 for pos in corners if cur[pos[0]][pos[1]] == 'X')\n",
        "  O_corner = sum(1 for pos in corners if cur[pos[0]][pos[1]] == 'O')\n",
        "  #Flatten the list to count X/O:\n",
        "  flatten = [cell for row in cur for cell in row]\n",
        "  X_total = flatten.count('X')\n",
        "  O_total = flatten.count('O')\n",
        "  if X_total == 2: so+=20\n",
        "  if O_total == 2: sx+=20\n",
        "  X_edge = X_total - X_corner\n",
        "  O_edge = O_total - O_corner\n",
        "  if (X_total + O_total) <9:\n",
        "    corner_multiplier = 1.5\n",
        "    edge_multiplier = 1\n",
        "  else:\n",
        "    corner_multiplier = 1.5\n",
        "    edge_multiplier = 2.25\n",
        "  sx += (corner_multiplier*X_corner + edge_multiplier*X_edge)*(X_total/(X_total+O_total))\n",
        "  so += (corner_multiplier*O_corner + edge_multiplier*O_edge)*(O_total/(X_total+O_total))\n",
        "  #Checking for mills\n",
        "  for i in range(0,5,2):\n",
        "    # check if there is a mill in the outer box\n",
        "    if (cur[i][0] == cur[i][2] and cur[i][2] == cur[i][4] and cur[i][0] != ' '):\n",
        "      if cur[i][0] == 'X': sx+=10\n",
        "      else: so+=10\n",
        "    if (cur[0][i] == cur[2][i] and cur[2][i] == cur[4][i] and cur[0][i] != ' '):\n",
        "      if cur[0][i] == 'X': sx+=10\n",
        "      else: so+=10\n",
        "      # check if there is a mill in the inner box\n",
        "  for i in range(1,4):\n",
        "    if (cur[i][1] == cur[i][2] and cur[i][2] == cur[i][3] and cur[i][1] != ' '):\n",
        "      if cur[i][1] == 'X': sx+=10\n",
        "      else: so+=10\n",
        "    if (cur[1][i] == cur[2][i] and cur[2][i] == cur[3][i] and cur[1][i] != ' '):\n",
        "      if cur[1][i] == 'X': sx+=10\n",
        "      else: so+=10\n",
        "  return round(sx - so)"
      ],
      "metadata": {
        "id": "c_Oa6IoB1r4c"
      },
      "execution_count": 3,
      "outputs": []
    },
    {
      "cell_type": "code",
      "source": [
        "def pos_act(cur, x_pieces, o_pieces):\n",
        "  all_moves = [[i,j] for i in range(5) for j in range(5)]\n",
        "  #Creating list of all invalid moves\n",
        "  all_invalid = list(x_pieces.values()) + list(o_pieces.values()) + invalid\n",
        "  possible_moves = [move for move in all_moves if move not in all_invalid]\n",
        "  #Check phase\n",
        "  if len(x_pieces) < 6: #placing phase:\n",
        "    new_piece = PlayerTurn+list(x_pieces.keys())[0][0]\n",
        "    return {new_piece: possible_moves}\n",
        "  else: #Moving phase\n",
        "    def get_valid_moves(pos):\n",
        "        possible_moves = []\n",
        "        row, col = pos\n",
        "        #Checking for pieces on the outter square\n",
        "        if row in [0,4]:\n",
        "          possible_moves+= [row, col -2], [row, col+2] #left or right\n",
        "        if col in [0,4]:\n",
        "          possible_moves+= [row-2, col], [row+2, col] # up or down\n",
        "        possible_moves+= [row - 1, col], [row + 1, col],[row, col - 1], [row, col + 1]\n",
        "        # Make a list of valid moves\n",
        "        return [[r, c] for r, c in possible_moves\n",
        "                if 0 <= r < 5 and 0 <= c < 5\n",
        "                  and [r,c] not in all_invalid]\n",
        "  # Dictionary to store possible moves for each X piece\n",
        "    possible_moves = {}\n",
        "\n",
        "  # Iterate through each X piece and find possible moves\n",
        "    for piece, position in x_pieces.items():\n",
        "      if '' not in position:  # Consider only pieces still in play\n",
        "        possible_moves[piece]  = get_valid_moves(position)\n",
        "    return possible_moves\n",
        "print(pos_act(current,  X_pieces,O_pieces))\n",
        "print(pos_act(current,  O_pieces,X_pieces))"
      ],
      "metadata": {
        "colab": {
          "base_uri": "https://localhost:8080/"
        },
        "id": "Ii8pPFzuNeiy",
        "outputId": "d7c142e3-c2bd-4ce6-cc48-3ba6169dcb27"
      },
      "execution_count": 32,
      "outputs": [
        {
          "output_type": "stream",
          "name": "stdout",
          "text": [
            "{'X3': [[2, 3], [1, 2]], 'X5': [[2, 3], [3, 2]]}\n",
            "{'O1': [[1, 2]], 'O2': [[2, 1], [1, 2]], 'O3': [[2, 0]], 'O4': [[2, 4]]}\n"
          ]
        }
      ]
    },
    {
      "cell_type": "code",
      "source": [
        "# MiniMax Algorithm\n",
        "# The main function\n",
        "def MinimaxDecision (cur, x_pieces, o_pieces):\n",
        "  import math\n",
        "  # check the Max value for all possible actions\n",
        "  invalid = [[0,1],[0,3],[1,0],[1,4],[2,2],[3,0],[3,4],[4,1],[4,3]]\n",
        "  maxVal = -20\n",
        "  actionI = 0\n",
        "  actionJ = 0\n",
        "  alpha = -math.inf\n",
        "  beta = math.inf\n",
        "  remove = None\n",
        "  #Checking for possible moves\n",
        "  possible_moves = pos_act(cur, x_pieces, o_pieces)\n",
        "  for piece, moves in possible_moves.items():\n",
        "    for move in moves:\n",
        "      x_pieces[piece] = move\n",
        "      row,col = move\n",
        "    #Checking for mill in the new state\n",
        "      trio_list = check_trio(x_pieces)\n",
        "      if len(trio_list) >0:\n",
        "        tempState= {}\n",
        "        removable = [key for key, value in o_pieces.items() if value != ['','']]\n",
        "        # Iterate through removing each of opponent currently available pieces\n",
        "        for remove_piece in removable:\n",
        "          tempState = {piece: values for piece,values in o_pieces.items()}\n",
        "          tempState[remove_piece] = ['','']\n",
        "          nextState = make_board(tempState, o_pieces)\n",
        "          #Evaluate the next state\n",
        "          val = MinValue(nextState, alpha, beta, maxDepth)\n",
        "          if (val > maxVal):\n",
        "            maxVal = val\n",
        "            moving_piece = piece\n",
        "            actionI = row\n",
        "            actionJ = col\n",
        "            remove = remove_piece\n",
        "          if (val > alpha):\n",
        "            alpha = val\n",
        "      else:\n",
        "        #Evaluating the next state\n",
        "        nextState = make_board(x_pieces, o_pieces)\n",
        "        val = MinValue(nextState, alpha, beta, maxDepth)\n",
        "        if (val > maxVal):\n",
        "          maxVal = val\n",
        "          moving_piece = piece\n",
        "          actionI = row\n",
        "          actionJ = col\n",
        "        if (val > alpha):\n",
        "          alpha = val\n",
        "  return actionI, actionJ, moving_piece, remove"
      ],
      "metadata": {
        "id": "YpnqPl1rTmP7"
      },
      "execution_count": 1,
      "outputs": []
    },
    {
      "cell_type": "code",
      "source": [
        "# MaxValue function\n",
        "def MaxValue (cur, alpha, beta, depth):\n",
        "  # we have 3 terminal states: X O Draw\n",
        "  if testWin(cur) == 'X':\n",
        "    return 30\n",
        "  if testWin(cur) == 'O':\n",
        "    return -30\n",
        "  if testWin(cur) == 'Draw':\n",
        "    return 0\n",
        "  if (depth == 0):\n",
        "    return evalState(cur)\n",
        "  # check the Max value for all possible actions\n",
        "  maxVal = -20  # - infinity null value for the max\n",
        "#-------------------------------\n",
        "  for i in range(3):\n",
        "    for j in range(3):\n",
        "      if (cur[i][j] == ' '): # it is a possible action\n",
        "        #create the nextState and send it to MinValue\n",
        "        nextState = [[cur[ti][tj] for tj in range(3)] for ti in range(3)]\n",
        "        nextState[i][j] = 'X'\n",
        "#-------------------------------\n",
        "  possible_moves = pos_act(cur, x_pieces, o_pieces)\n",
        "  for piece, moves in possible_moves.items():\n",
        "    for move in moves:\n",
        "      x_pieces[piece] = move\n",
        "      row,col = move\n",
        "    #Checking for mill in the new state\n",
        "      trio_list = check_trio(x_pieces)\n",
        "      if len(trio_list) >0:\n",
        "        tempState= {}\n",
        "        removable = [key for key, value in o_pieces.items() if value != ['','']]\n",
        "        # Iterate through removing each of opponent currently available pieces\n",
        "        for remove_piece in removable:\n",
        "          tempState = {piece: values for piece,values in o_pieces.items()}\n",
        "          tempState[remove_piece] = ['','']\n",
        "          nextState = make_board(tempState, o_pieces)\n",
        "#-------------------------------\n",
        "        val = MinValue(nextState, alpha, beta, depth-1)\n",
        "        if (val > maxVal):\n",
        "          maxVal = val\n",
        "        if (val >= beta): # beta will prune on max level\n",
        "          return val\n",
        "        if (val > alpha):\n",
        "          alpha = val\n",
        "  return maxVal"
      ],
      "metadata": {
        "id": "p0MeT35PTm50"
      },
      "execution_count": null,
      "outputs": []
    },
    {
      "cell_type": "code",
      "source": [
        "list(X_pieces.keys())[0][0]"
      ],
      "metadata": {
        "colab": {
          "base_uri": "https://localhost:8080/",
          "height": 35
        },
        "id": "708fnCnYWYxi",
        "outputId": "bc58b249-99a7-4d62-aebb-a8fb094ea181"
      },
      "execution_count": 31,
      "outputs": [
        {
          "output_type": "execute_result",
          "data": {
            "text/plain": [
              "'X'"
            ],
            "application/vnd.google.colaboratory.intrinsic+json": {
              "type": "string"
            }
          },
          "metadata": {},
          "execution_count": 31
        }
      ]
    },
    {
      "cell_type": "code",
      "source": [
        "# MinValue function\n",
        "def MinValue (cur, alpha, beta, depth):\n",
        "  # we have 3 terminal states: X O Draw\n",
        "  if testWin(cur) == 'X':\n",
        "    return 10\n",
        "  if testWin(cur) == 'O':\n",
        "    return -10\n",
        "  if testWin(cur) == 'Draw':\n",
        "    return 0\n",
        "  if (depth == 0):\n",
        "    return evalState(cur)\n",
        "  # check the Max value for all possible actions\n",
        "  minVal = 20 # + infinity\n",
        "  for i in range(3):\n",
        "    for j in range(3):\n",
        "      if (cur[i][j] == ' '): # it is a possible action\n",
        "        #create the nextState and send it to MinValue\n",
        "        nextState = [[cur[ti][tj] for tj in range(3)] for ti in range(3)]\n",
        "        nextState[i][j] = 'O'\n",
        "        val = MaxValue(nextState, alpha, beta, depth-1)\n",
        "        if (val < minVal):\n",
        "          minVal = val\n",
        "        if (val <= alpha): # player min, so prune, if possible, with alpha\n",
        "          return val\n",
        "        if (val < beta):\n",
        "          beta = val\n",
        "  return minVal"
      ],
      "metadata": {
        "id": "ka8LocHETppL"
      },
      "execution_count": null,
      "outputs": []
    },
    {
      "cell_type": "code",
      "source": [
        "tempState= {}\n",
        "O_pieces = {'O0':[0,0],'O1':[2,0],'O2': [1, 1],'O3': [2,1],'O4': [0, 4], 'O5': ['','']}\n",
        "pieces_to_remove = [key for key, value in O_pieces.items() if value != ['','']]\n",
        "for piece in pieces_to_remove:\n",
        "  tempState = {piece: values for piece,values in O_pieces.items()}\n",
        "  tempState[piece] = ['','']\n",
        "  print(tempState)\n"
      ],
      "metadata": {
        "colab": {
          "base_uri": "https://localhost:8080/"
        },
        "id": "nq_ppTOG9KAz",
        "outputId": "836309e0-2f12-4411-cd2a-26c28f80960c"
      },
      "execution_count": null,
      "outputs": [
        {
          "output_type": "stream",
          "name": "stdout",
          "text": [
            "{'O0': ['', ''], 'O1': [2, 0], 'O2': [1, 1], 'O3': [2, 1], 'O4': [0, 4], 'O5': ['', '']}\n",
            "{'O0': [0, 0], 'O1': ['', ''], 'O2': [1, 1], 'O3': [2, 1], 'O4': [0, 4], 'O5': ['', '']}\n",
            "{'O0': [0, 0], 'O1': [2, 0], 'O2': ['', ''], 'O3': [2, 1], 'O4': [0, 4], 'O5': ['', '']}\n",
            "{'O0': [0, 0], 'O1': [2, 0], 'O2': [1, 1], 'O3': ['', ''], 'O4': [0, 4], 'O5': ['', '']}\n",
            "{'O0': [0, 0], 'O1': [2, 0], 'O2': [1, 1], 'O3': [2, 1], 'O4': ['', ''], 'O5': ['', '']}\n"
          ]
        }
      ]
    }
  ]
}